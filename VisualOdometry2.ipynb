{
 "cells": [
  {
   "cell_type": "markdown",
   "id": "1f4f7d83-e214-44fb-a137-da0733f1d36e",
   "metadata": {},
   "source": [
    "### Motion estimation\n",
    "\n",
    "We want to figure out how the camera moved from frame 1 to frame 2.\n",
    "This is a geometry problem.\n",
    "Since each frame is a 2-D projection of 3-D physical space, the mathematical field of [projective geometry](https://www.britannica.com/science/projective-geometry) comes in handy.\n",
    "To be honest, I don't fully understand projective geometry the way I do regular (Euclidean) geometry, but it doesn't seem entirely necessary for this particular application.\n",
    "I will definitely be learning that more deeply as time goes on, but [here](https://www.youtube.com/playlist?list=PL2zRqk16wsdoCCLpou-dGo7QQNks1Ppzo) is an interim explanation that should prove useful (yes, the whole playlist)."
   ]
  },
  {
   "cell_type": "markdown",
   "id": "8f2e7a9a-fd41-4728-836d-aeec894713f5",
   "metadata": {},
   "source": [
    "### References\n",
    "\n",
    "* [First Principles of Computer Vision](https://www.youtube.com/channel/UCf0WB91t8Ky6AuYcQV0CcLw) YouTube channel\n",
    "* [twitchslam](https://github.com/geohot/twitchslam) by George Hotz\n",
    "* [KITTI Odometry with OpenCV Python](https://www.youtube.com/playlist?list=PLrHDCRerOaI9HfgZDbiEncG5dx7S3Nz6X) by Nate Cibik\n",
    "* Visual Odometry by David Scaramuzza and Friedrich Fraundorfer"
   ]
  }
 ],
 "metadata": {
  "kernelspec": {
   "display_name": "Python 3",
   "language": "python",
   "name": "python3"
  },
  "language_info": {
   "codemirror_mode": {
    "name": "ipython",
    "version": 3
   },
   "file_extension": ".py",
   "mimetype": "text/x-python",
   "name": "python",
   "nbconvert_exporter": "python",
   "pygments_lexer": "ipython3",
   "version": "3.9.1"
  }
 },
 "nbformat": 4,
 "nbformat_minor": 5
}
