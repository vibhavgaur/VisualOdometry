{
 "cells": [
  {
   "cell_type": "markdown",
   "id": "985b0e3a-83ca-4d60-b715-b3d6f54cb0b6",
   "metadata": {},
   "source": [
    "The **[fundamental matrix](https://en.wikipedia.org/wiki/Fundamental_matrix_(computer_vision))** $F$ is a matrix that maps points in one image to their matches in the other image.\n",
    "Ok, technically it doesn't match points to points, but points to their respective epipolar lines.\n",
    "Due to the [epipolar constraint](https://en.wikipedia.org/wiki/Epipolar_geometry#Epipolar_constraint_and_triangulation), it is guaranteed that a point in one image plane will have its match in the other (stereo) image frame on a line (called the epipolar line).\n",
    "This is really cool, because now when we search for a match, we just need to search a line in the image instead of the whole 2-D image.\n",
    "This constraint restricts our search space by a lot!\n",
    "Here, we will use this fact in a reverse way.\n",
    "We already have the matches, thanks to our brute-force matcher -- albeit not all of them are high quality as we saw above.\n",
    "And we know that the matches must satisfy the epipolar constraint, which is basically saying that they must follow the mapping (or transformation) of the fundamental matrix.\n",
    "Now, we can tell by looking at each match if it is a good quality match or not, but this constraint gives us a quantitative way of deciding whether a match is a good match or not.\n",
    "So, the points that don't obey this fundamental matrix transform (or mapping) are bad matches.\n",
    "\n",
    "There is an algorithm that makes this check for us, called [RANSAC](https://en.wikipedia.org/wiki/Random_sample_consensus).\n",
    "We will use this to filter out bad matches."
   ]
  },
  {
   "cell_type": "code",
   "execution_count": 1,
   "id": "a3dd4c41-afa7-4924-8c34-663d3319a832",
   "metadata": {},
   "outputs": [
    {
     "ename": "NameError",
     "evalue": "name 'np' is not defined",
     "output_type": "error",
     "traceback": [
      "\u001b[1;31m---------------------------------------------------------------------------\u001b[0m",
      "\u001b[1;31mNameError\u001b[0m                                 Traceback (most recent call last)",
      "\u001b[1;32m<ipython-input-1-38f56d94512e>\u001b[0m in \u001b[0;36m<module>\u001b[1;34m\u001b[0m\n\u001b[1;32m----> 1\u001b[1;33m \u001b[0mmatches1\u001b[0m \u001b[1;33m=\u001b[0m \u001b[0mnp\u001b[0m\u001b[1;33m.\u001b[0m\u001b[0masarray\u001b[0m\u001b[1;33m(\u001b[0m\u001b[1;33m[\u001b[0m\u001b[0mkp1\u001b[0m\u001b[1;33m[\u001b[0m\u001b[0mm\u001b[0m\u001b[1;33m.\u001b[0m\u001b[0mqueryIdx\u001b[0m\u001b[1;33m]\u001b[0m\u001b[1;33m.\u001b[0m\u001b[0mpt\u001b[0m \u001b[1;32mfor\u001b[0m \u001b[0mm\u001b[0m \u001b[1;32min\u001b[0m \u001b[0mmatches\u001b[0m\u001b[1;33m]\u001b[0m\u001b[1;33m)\u001b[0m\u001b[1;33m\u001b[0m\u001b[1;33m\u001b[0m\u001b[0m\n\u001b[0m\u001b[0;32m      2\u001b[0m \u001b[0mmatches2\u001b[0m \u001b[1;33m=\u001b[0m \u001b[0mnp\u001b[0m\u001b[1;33m.\u001b[0m\u001b[0masarray\u001b[0m\u001b[1;33m(\u001b[0m\u001b[1;33m[\u001b[0m\u001b[0mkp1\u001b[0m\u001b[1;33m[\u001b[0m\u001b[0mm\u001b[0m\u001b[1;33m.\u001b[0m\u001b[0mtrainIdx\u001b[0m\u001b[1;33m]\u001b[0m\u001b[1;33m.\u001b[0m\u001b[0mpt\u001b[0m \u001b[1;32mfor\u001b[0m \u001b[0mm\u001b[0m \u001b[1;32min\u001b[0m \u001b[0mmatches\u001b[0m\u001b[1;33m]\u001b[0m\u001b[1;33m)\u001b[0m\u001b[1;33m\u001b[0m\u001b[1;33m\u001b[0m\u001b[0m\n\u001b[0;32m      3\u001b[0m \u001b[1;33m\u001b[0m\u001b[0m\n\u001b[0;32m      4\u001b[0m \u001b[0mF\u001b[0m\u001b[1;33m,\u001b[0m \u001b[0minlierMask\u001b[0m \u001b[1;33m=\u001b[0m \u001b[0mcv2\u001b[0m\u001b[1;33m.\u001b[0m\u001b[0mfindFundamentalMat\u001b[0m\u001b[1;33m(\u001b[0m\u001b[0mmatches1\u001b[0m\u001b[1;33m,\u001b[0m \u001b[0mmatches2\u001b[0m\u001b[1;33m,\u001b[0m \u001b[0mcv2\u001b[0m\u001b[1;33m.\u001b[0m\u001b[0mRANSAC\u001b[0m\u001b[1;33m,\u001b[0m \u001b[1;36m3\u001b[0m\u001b[1;33m,\u001b[0m \u001b[1;36m0.9\u001b[0m\u001b[1;33m,\u001b[0m \u001b[1;36m100\u001b[0m\u001b[1;33m)\u001b[0m\u001b[1;33m\u001b[0m\u001b[1;33m\u001b[0m\u001b[0m\n\u001b[0;32m      5\u001b[0m \u001b[0mprint\u001b[0m\u001b[1;33m(\u001b[0m\u001b[1;34m\"Number of inliers: \"\u001b[0m\u001b[1;33m,\u001b[0m \u001b[0msum\u001b[0m\u001b[1;33m(\u001b[0m\u001b[0minlierMask\u001b[0m\u001b[1;33m)\u001b[0m\u001b[1;33m)\u001b[0m\u001b[1;33m\u001b[0m\u001b[1;33m\u001b[0m\u001b[0m\n",
      "\u001b[1;31mNameError\u001b[0m: name 'np' is not defined"
     ]
    }
   ],
   "source": [
    "matches1 = np.asarray([kp1[m.queryIdx].pt for m in matches])\n",
    "matches2 = np.asarray([kp1[m.trainIdx].pt for m in matches])\n",
    "\n",
    "F, inlierMask = cv2.findFundamentalMat(matches1, matches2, cv2.RANSAC, 3, 0.9, 100)\n",
    "print(\"Number of inliers: \", sum(inlierMask))"
   ]
  },
  {
   "cell_type": "markdown",
   "id": "5dae60d4-4c5b-4ad4-987a-1678a24fc05b",
   "metadata": {},
   "source": [
    "### Motion estimation\n",
    "\n",
    "We want to figure out how the camera moved from frame 1 to frame 2.\n",
    "This is a geometry problem.\n",
    "Since each frame is a 2-D projection of 3-D physical space, the mathematical field of [projective geometry](https://www.britannica.com/science/projective-geometry) comes in handy.\n",
    "To be honest, I don't fully understand projective geometry the way I do regular (Euclidean) geometry, but it doesn't seem entirely necessary for this particular application.\n",
    "I will definitely be learning that more deeply as time goes on, but [here](https://www.youtube.com/playlist?list=PL2zRqk16wsdoCCLpou-dGo7QQNks1Ppzo) is an interim explanation that should prove useful (yes, the whole playlist)."
   ]
  },
  {
   "cell_type": "markdown",
   "id": "8f2e7a9a-fd41-4728-836d-aeec894713f5",
   "metadata": {},
   "source": [
    "### References\n",
    "\n",
    "* [First Principles of Computer Vision](https://www.youtube.com/channel/UCf0WB91t8Ky6AuYcQV0CcLw) YouTube channel\n",
    "* [twitchslam](https://github.com/geohot/twitchslam) by George Hotz\n",
    "* [KITTI Odometry with OpenCV Python](https://www.youtube.com/playlist?list=PLrHDCRerOaI9HfgZDbiEncG5dx7S3Nz6X) by Nate Cibik\n",
    "* Visual Odometry by David Scaramuzza and Friedrich Fraundorfer"
   ]
  }
 ],
 "metadata": {
  "kernelspec": {
   "display_name": "Python 3",
   "language": "python",
   "name": "python3"
  },
  "language_info": {
   "codemirror_mode": {
    "name": "ipython",
    "version": 3
   },
   "file_extension": ".py",
   "mimetype": "text/x-python",
   "name": "python",
   "nbconvert_exporter": "python",
   "pygments_lexer": "ipython3",
   "version": "3.9.1"
  }
 },
 "nbformat": 4,
 "nbformat_minor": 5
}
