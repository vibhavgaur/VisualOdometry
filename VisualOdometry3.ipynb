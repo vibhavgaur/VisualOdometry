{
 "cells": [
  {
   "cell_type": "markdown",
   "id": "e5c69bd7-68a1-4f9b-b600-4158e606e9a3",
   "metadata": {},
   "source": [
    "### Motion estimation\n",
    "\n",
    "We want to figure out how the camera moved from frame 1 to frame 2.\n",
    "This is a geometry problem.\n",
    "Since each frame is a 2-D projection of 3-D physical space, the mathematical field of [projective geometry](https://www.britannica.com/science/projective-geometry) comes in handy.\n",
    "To be honest, I don't fully understand projective geometry the way I do regular (Euclidean) geometry, but it doesn't seem entirely necessary for this particular application.\n",
    "I will definitely be learning that more deeply as time goes on, but [here](https://www.youtube.com/playlist?list=PL2zRqk16wsdoCCLpou-dGo7QQNks1Ppzo) is an interim explanation that should prove useful (yes, the whole playlist).\n",
    "\n",
    "### Camera Calibration\n",
    "\n",
    "* you can assume principle point $(c_x, c_y)$ to be the center of the image\n",
    "* you can assume $f_x = f_y$"
   ]
  },
  {
   "cell_type": "code",
   "execution_count": 1,
   "id": "647f6581-d005-446a-9fb7-e93a806f87af",
   "metadata": {},
   "outputs": [
    {
     "ename": "ModuleNotFoundError",
     "evalue": "No module named 'skimage'",
     "output_type": "error",
     "traceback": [
      "\u001b[1;31m-----------------------------------------------------------------\u001b[0m",
      "\u001b[1;31mModuleNotFoundError\u001b[0m             Traceback (most recent call last)",
      "\u001b[1;32m<ipython-input-1-aa248544dc2e>\u001b[0m in \u001b[0;36m<module>\u001b[1;34m\u001b[0m\n\u001b[1;32m----> 1\u001b[1;33m \u001b[1;32mimport\u001b[0m \u001b[0mskimage\u001b[0m\u001b[1;33m\u001b[0m\u001b[1;33m\u001b[0m\u001b[0m\n\u001b[0m",
      "\u001b[1;31mModuleNotFoundError\u001b[0m: No module named 'skimage'"
     ]
    }
   ],
   "source": []
  }
 ],
 "metadata": {
  "kernelspec": {
   "display_name": "Python 3",
   "language": "python",
   "name": "python3"
  },
  "language_info": {
   "codemirror_mode": {
    "name": "ipython",
    "version": 3
   },
   "file_extension": ".py",
   "mimetype": "text/x-python",
   "name": "python",
   "nbconvert_exporter": "python",
   "pygments_lexer": "ipython3",
   "version": "3.9.1"
  }
 },
 "nbformat": 4,
 "nbformat_minor": 5
}
