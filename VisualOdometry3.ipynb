{
 "cells": [
  {
   "cell_type": "markdown",
   "id": "e5c69bd7-68a1-4f9b-b600-4158e606e9a3",
   "metadata": {},
   "source": [
    "### Motion estimation\n",
    "\n",
    "We want to figure out how the camera moved from frame 1 to frame 2.\n",
    "This is a geometry problem.\n",
    "Since each frame is a 2-D projection of 3-D physical space, the mathematical field of [projective geometry](https://www.britannica.com/science/projective-geometry) comes in handy.\n",
    "To be honest, I don't fully understand projective geometry the way I do regular (Euclidean) geometry, but it doesn't seem entirely necessary for this particular application.\n",
    "I will definitely be learning that more deeply as time goes on, but [here](https://www.youtube.com/playlist?list=PL2zRqk16wsdoCCLpou-dGo7QQNks1Ppzo) is an interim explanation that should prove useful (yes, the whole playlist).\n",
    "\n",
    "### Camera Calibration\n",
    "\n",
    "* you can assume principle point $(c_x, c_y)$ to be the center of the image\n",
    "* you can assume $f_x = f_y$"
   ]
  },
  {
   "cell_type": "markdown",
   "id": "bf02edeb-7fb9-4f1f-ac93-f6d5f4e2bb7e",
   "metadata": {},
   "source": [
    "According to [Hartley-Zisserman]() Result 9.17 -- *A 3×3 matrix is an essential matrix if and only if two of its singular values are equal, and the third is zero.* The proof of this result tells us that the SVD of the essential matrix must give us two equal singular values with the 3rd one being zero. This is the fact the Geohot makes use of when \"guessing\" the focal length of the camera."
   ]
  }
 ],
 "metadata": {
  "kernelspec": {
   "display_name": "Python 3",
   "language": "python",
   "name": "python3"
  },
  "language_info": {
   "codemirror_mode": {
    "name": "ipython",
    "version": 3
   },
   "file_extension": ".py",
   "mimetype": "text/x-python",
   "name": "python",
   "nbconvert_exporter": "python",
   "pygments_lexer": "ipython3",
   "version": "3.8.2"
  }
 },
 "nbformat": 4,
 "nbformat_minor": 5
}
